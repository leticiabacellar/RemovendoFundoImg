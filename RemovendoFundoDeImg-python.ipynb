{
 "cells": [
  {
   "cell_type": "code",
   "execution_count": null,
   "metadata": {},
   "outputs": [],
   "source": [
    "from rembg import remove\n",
    "from PIL import Image\n",
    "\n",
    "# Importa imagem original \n",
    "img = Image.open('img.jpg')\n",
    "\n",
    "# Remove fundo da imagem\n",
    "img_without_back = remove (img)\n",
    "\n",
    "# Salva imagem sem fundo\n",
    "img_without_back.save('img_without_back.png')"
   ]
  }
 ],
 "metadata": {
  "language_info": {
   "name": "python"
  },
  "orig_nbformat": 4
 },
 "nbformat": 4,
 "nbformat_minor": 2
}
